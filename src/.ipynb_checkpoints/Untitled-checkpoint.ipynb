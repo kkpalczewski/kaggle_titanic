{
 "cells": [
  {
   "cell_type": "code",
   "execution_count": 1,
   "metadata": {},
   "outputs": [
    {
     "ename": "ModuleNotFoundError",
     "evalue": "No module named 'tensorflow'",
     "output_type": "error",
     "traceback": [
      "\u001b[1;31m---------------------------------------------------------------------------\u001b[0m",
      "\u001b[1;31mModuleNotFoundError\u001b[0m                       Traceback (most recent call last)",
      "\u001b[1;32m<ipython-input-1-9557328ed49d>\u001b[0m in \u001b[0;36m<module>\u001b[1;34m()\u001b[0m\n\u001b[0;32m      4\u001b[0m \u001b[1;32mimport\u001b[0m \u001b[0mnumpy\u001b[0m \u001b[1;32mas\u001b[0m \u001b[0mnp\u001b[0m\u001b[1;33m\u001b[0m\u001b[0m\n\u001b[0;32m      5\u001b[0m \u001b[1;32mimport\u001b[0m \u001b[0mmath\u001b[0m\u001b[1;33m\u001b[0m\u001b[0m\n\u001b[1;32m----> 6\u001b[1;33m \u001b[1;32mimport\u001b[0m \u001b[0mtensorflow\u001b[0m \u001b[1;32mas\u001b[0m \u001b[0mtf\u001b[0m\u001b[1;33m\u001b[0m\u001b[0m\n\u001b[0m\u001b[0;32m      7\u001b[0m \u001b[1;32mimport\u001b[0m \u001b[0mitertools\u001b[0m\u001b[1;33m\u001b[0m\u001b[0m\n\u001b[0;32m      8\u001b[0m \u001b[1;33m\u001b[0m\u001b[0m\n",
      "\u001b[1;31mModuleNotFoundError\u001b[0m: No module named 'tensorflow'"
     ]
    }
   ],
   "source": [
    "# data analysis\n",
    "import pandas as pd\n",
    "import numpy as np\n",
    "import math\n",
    "import tensorflow as tf\n",
    "import itertools\n",
    "\n",
    "# visualization\n",
    "import seaborn as sns\n",
    "import matplotlib.pyplot as plt\n",
    "\n",
    "download_data_train = pd.read_csv(\"..\\download\\\\train.csv\")\n",
    "download_data_test = pd.read_csv(\"..\\download\\\\test.csv\")\n",
    "\n",
    "#create new labels\n",
    "data_train_labels = pd.DataFrame(download_data_train, columns = ['PassengerId', 'Survived'])\n",
    "\n",
    "#create one table for easier data preparation\n",
    "download_data_train[\"trainOrTest\"] = \"train\"\n",
    "download_data_test[\"trainOrTest\"] = \"test\"\n",
    "download_data_train_sub = download_data_train.drop([\"Survived\"], axis=1)\n",
    "data_train_test_all = pd.concat([download_data_train_sub, download_data_test])\n",
    "\n",
    "data_train_test_all[\"Fare\"] = data_train_test_all[\"Fare\"].apply(lambda x: x if not math.isnan(x) else np.mean(data_train_test_all['Fare']))\n",
    "data_train_test_all[\"Sex\"] = data_train_test_all[\"Sex\"].apply(lambda x: 1 if x == \"male\" else 0)\n",
    "data_train_test_all[\"Embarked\"] = data_train_test_all[\"Embarked\"].apply(lambda x: 2 if x == \"C\" else (1 if x == 'Q' else 0))\n",
    "\n",
    "data_train_test_all['Title'] = data_train_test_all.Name.str.extract(' ([A-Za-z]+)\\.', expand=False)\n",
    "data_train_test_all['Title'] = data_train_test_all['Title'].replace('Mlle', 'Miss')\n",
    "data_train_test_all['Title'] = data_train_test_all['Title'].replace('Ms', 'Miss')\n",
    "data_train_test_all['Title'] = data_train_test_all['Title'].replace('Mme', 'Mrs')\n",
    "data_train_test_all['Title'] = data_train_test_all['Title'].apply(lambda x: x if x in ['Master', 'Miss', 'Mr', 'Mrs'] else 'Rare')\n",
    "title_map = {'Mrs': 4, 'Miss': 3, 'Master': 2, 'Mr' : 1, 'Rare' : 0}\n",
    "data_train_test_all['Title'] = data_train_test_all['Title'].map(title_map)\n",
    "\n",
    "data_train_test_all = data_train_test_all.drop([\"Ticket\"], axis=1)\n",
    "data_train_test_all = data_train_test_all.drop([\"Cabin\"], axis=1)\n",
    "data_train_test_all = data_train_test_all.drop([\"Name\"], axis=1)"
   ]
  },
  {
   "cell_type": "code",
   "execution_count": null,
   "metadata": {
    "collapsed": true
   },
   "outputs": [],
   "source": []
  }
 ],
 "metadata": {
  "kernelspec": {
   "display_name": "Python 3",
   "language": "python",
   "name": "python3"
  },
  "language_info": {
   "codemirror_mode": {
    "name": "ipython",
    "version": 3
   },
   "file_extension": ".py",
   "mimetype": "text/x-python",
   "name": "python",
   "nbconvert_exporter": "python",
   "pygments_lexer": "ipython3",
   "version": "3.6.1"
  }
 },
 "nbformat": 4,
 "nbformat_minor": 2
}
